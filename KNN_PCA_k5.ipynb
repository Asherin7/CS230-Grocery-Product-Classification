{
 "cells": [
  {
   "cell_type": "code",
   "execution_count": 1,
   "metadata": {
    "colab": {
     "base_uri": "https://localhost:8080/",
     "height": 88
    },
    "colab_type": "code",
    "id": "Tbm2CFpZqA9o",
    "outputId": "c19b37ad-9bb0-4c45-a3e2-cccdc5b9af57"
   },
   "outputs": [
    {
     "name": "stderr",
     "output_type": "stream",
     "text": [
      "Using TensorFlow backend.\n"
     ]
    }
   ],
   "source": [
    "# 1.0 - TensorFlow model\n",
    "from sklearn.neighbors import KNeighborsClassifier\n",
    "from sklearn.model_selection import train_test_split,cross_val_score\n",
    "from sklearn.metrics import classification_report\n",
    "from sklearn.metrics import accuracy_score\n",
    "from sklearn.decomposition import PCA\n",
    "from sklearn.preprocessing import scale\n",
    "from imutils import paths\n",
    "import h5py\n",
    "import numpy as np\n",
    "import argparse\n",
    "import imutils\n",
    "import cv2\n",
    "import os\n",
    "import math\n",
    "import matplotlib.pyplot as plt\n",
    "import scipy\n",
    "from random import shuffle\n",
    "from PIL import Image\n",
    "from scipy import ndimage\n",
    "import tensorflow as tf\n",
    "from tensorflow.python.framework import ops\n",
    "from keras.models import Model\n",
    "from keras.utils import to_categorical\n",
    "import keras.backend as K\n",
    "from keras import optimizers\n",
    "#from cnn_utils import *\n",
    "\n",
    "%matplotlib inline\n",
    "np.random.seed(1)"
   ]
  },
  {
   "cell_type": "code",
   "execution_count": 2,
   "metadata": {
    "colab": {},
    "colab_type": "code",
    "id": "1UfQfpkfq8Jv"
   },
   "outputs": [],
   "source": [
    "# Mount data from google drive    \n",
    "# Dataset to be imported below:\n",
    "#from google.colab import drive\n",
    "#drive.mount('/content/gdrive')\n"
   ]
  },
  {
   "cell_type": "code",
   "execution_count": 3,
   "metadata": {
    "cellView": "code",
    "colab": {
     "base_uri": "https://localhost:8080/",
     "height": 34
    },
    "colab_type": "code",
    "id": "lT5ZlRIl3zbT",
    "outputId": "12cbc05a-e453-4526-f33e-ac43f77c1e32"
   },
   "outputs": [
    {
     "name": "stdout",
     "output_type": "stream",
     "text": [
      "Done building dataset\n"
     ]
    }
   ],
   "source": [
    "#Load Datasets\n",
    "#X_data = h5py.File('/content/gdrive/Team Drives/CS 230 Project/Cereal pics/X_data.h5', 'r')\n",
    "#Y_data = h5py.File('/content/gdrive/Team Drives/CS 230 Project/Cereal pics/Y_data.h5', 'r')\n",
    "  \n",
    "X_data = h5py.File('X_data.h5', 'r')\n",
    "Y_data = h5py.File('Y_data.h5', 'r')\n",
    "  \n",
    "#Specify Split ratios\n",
    "Train_percent = 0.9\n",
    "Dev_percent = 0.0\n",
    "Test_percent = 0.1\n",
    "\n",
    "#Get shapes of data:\n",
    "m = len(X_data)\n",
    "h_X,w_X,c_X = np.shape(X_data['X1'])\n",
    "\n",
    "#Get indices of train/dev/test split\n",
    "temp_list = list(range(m))\n",
    "shuffle(temp_list)\n",
    "Train_list = temp_list[0:int(Train_percent*m)]\n",
    "Dev_list = temp_list[int(Train_percent*m):int(Train_percent*m)+int(Dev_percent*m)]\n",
    "Test_list = temp_list[int(Train_percent*m)+int(Dev_percent*m):\n",
    "                      int(Train_percent*m)+int(Dev_percent*m)+int(Test_percent*m)]\n",
    "\n",
    "# Create np arrays for train/dev/test set\n",
    "X_train_orig = np.empty((len(Train_list),h_X,w_X,c_X))\n",
    "Y_train_orig = np.empty(len(Train_list))\n",
    "X_dev_orig = np.empty((len(Dev_list),h_X,w_X,c_X))\n",
    "Y_dev_orig = np.empty(len(Dev_list))\n",
    "X_test_orig = np.empty((len(Test_list),h_X,w_X,c_X))\n",
    "Y_test_orig = np.empty(len(Test_list))\n",
    "\n",
    "#Copy data from dataset onto the np arrays\n",
    "for ind,item in enumerate(Train_list):\n",
    "    X_train_orig[ind]=X_data['X'+str(item)][:]\n",
    "    Y_train_orig[ind]=Y_data['y'+str(item)][:]\n",
    "for ind,item in enumerate(Dev_list):\n",
    "    X_dev_orig[ind]=X_data['X'+str(item)][:]\n",
    "    Y_dev_orig[ind]=Y_data['y'+str(item)][:]\n",
    "for ind,item in enumerate(Test_list):\n",
    "    X_test_orig[ind]=X_data['X'+str(item)][:]\n",
    "    Y_test_orig[ind]=Y_data['y'+str(item)][:]\n",
    "\n",
    "print(\"Done building dataset\")\n",
    "    \n",
    "  "
   ]
  },
  {
   "cell_type": "code",
   "execution_count": 4,
   "metadata": {
    "colab": {
     "base_uri": "https://localhost:8080/",
     "height": 170
    },
    "colab_type": "code",
    "id": "z1yJWAynq8Yf",
    "outputId": "c6f1d623-8b9e-4b5c-ae90-51437f3e56cb"
   },
   "outputs": [
    {
     "name": "stdout",
     "output_type": "stream",
     "text": [
      "number of training examples = 8028\n",
      "number of dev examples = 0\n",
      "number of test examples = 892\n",
      "X_train shape: (8028, 196608)\n",
      "Y_train shape: (8028,)\n",
      "X_dev shape: (0, 196608)\n",
      "Y_dev shape: (0,)\n",
      "X_test shape: (892, 196608)\n",
      "Y_test shape: (892,)\n"
     ]
    }
   ],
   "source": [
    "# To get started, let's examine the shapes of your data.\n",
    "X_train = np.reshape(X_train_orig/255.,(X_train_orig.shape[0],256*256*3),order='C')\n",
    "X_dev = np.reshape(X_dev_orig/255.,(X_dev_orig.shape[0],256*256*3),order='C')\n",
    "X_test = np.reshape(X_test_orig/255.,(X_test_orig.shape[0],256*256*3),order='C')\n",
    "Y_train = Y_train_orig\n",
    "Y_dev = Y_dev_orig\n",
    "Y_test = Y_test_orig\n",
    "X_train_orig, X_dev_orig, X_test_orig = None, None, None\n",
    "Y_train_orig, Y_dev_orig, Y_test_orig = None, None, None\n",
    "del X_data\n",
    "del Y_data\n",
    "X_train = scale(X_train)\n",
    "X_test = scale(X_test)\n",
    "pca = PCA()\n",
    "pca.fit(X_train)\n",
    "pca.fit(X_test)\n",
    "print (\"number of training examples = \" + str(X_train.shape[0]))\n",
    "print (\"number of dev examples = \" + str(X_dev.shape[0]))\n",
    "print (\"number of test examples = \" + str(X_test.shape[0]))\n",
    "print (\"X_train shape: \" + str(X_train.shape))\n",
    "print (\"Y_train shape: \" + str(Y_train.shape))\n",
    "print (\"X_dev shape: \" + str(X_dev.shape))\n",
    "print (\"Y_dev shape: \" + str(Y_dev.shape))\n",
    "print (\"X_test shape: \" + str(X_test.shape))\n",
    "print (\"Y_test shape: \" + str(Y_test.shape))\n",
    "conv_layers = {}"
   ]
  },
  {
   "cell_type": "code",
   "execution_count": 9,
   "metadata": {
    "colab": {},
    "colab_type": "code",
    "id": "NpB11vI_MNNr"
   },
   "outputs": [
    {
     "data": {
      "text/plain": [
       "KNeighborsClassifier(algorithm='auto', leaf_size=30, metric='minkowski',\n",
       "           metric_params=None, n_jobs=-1, n_neighbors=5, p=2,\n",
       "           weights='uniform')"
      ]
     },
     "execution_count": 9,
     "metadata": {},
     "output_type": "execute_result"
    }
   ],
   "source": [
    "# Define the Model and Network Architecture\n",
    "\n",
    "# loading library\n",
    "from sklearn.neighbors import KNeighborsClassifier\n",
    "\n",
    "# instantiate learning model (k = 1)\n",
    "knn = KNeighborsClassifier(n_neighbors=5, n_jobs=-1)\n",
    "\n",
    "# fitting the model\n",
    "knn.fit(X_train, Y_train)"
   ]
  },
  {
   "cell_type": "code",
   "execution_count": 10,
   "metadata": {},
   "outputs": [],
   "source": [
    "# predict the response\n",
    "pred = knn.predict(X_test)"
   ]
  },
  {
   "cell_type": "code",
   "execution_count": 11,
   "metadata": {},
   "outputs": [
    {
     "name": "stdout",
     "output_type": "stream",
     "text": [
      "0.9865470852017937\n",
      "             precision    recall  f1-score   support\n",
      "\n",
      "        0.0       1.00      1.00      1.00        15\n",
      "        1.0       1.00      1.00      1.00         6\n",
      "        2.0       1.00      1.00      1.00        13\n",
      "        3.0       1.00      1.00      1.00         8\n",
      "        4.0       1.00      1.00      1.00         4\n",
      "        5.0       1.00      1.00      1.00         1\n",
      "        6.0       1.00      1.00      1.00         3\n",
      "        7.0       1.00      1.00      1.00         5\n",
      "        8.0       1.00      1.00      1.00        12\n",
      "        9.0       1.00      1.00      1.00         7\n",
      "       10.0       1.00      1.00      1.00         9\n",
      "       11.0       1.00      1.00      1.00        12\n",
      "       12.0       1.00      1.00      1.00         5\n",
      "       13.0       1.00      1.00      1.00         7\n",
      "       14.0       1.00      1.00      1.00         8\n",
      "       15.0       1.00      1.00      1.00        14\n",
      "       16.0       1.00      1.00      1.00         6\n",
      "       17.0       1.00      0.75      0.86         4\n",
      "       18.0       1.00      1.00      1.00         4\n",
      "       19.0       1.00      1.00      1.00         8\n",
      "       20.0       1.00      1.00      1.00        10\n",
      "       21.0       1.00      1.00      1.00         1\n",
      "       22.0       1.00      0.89      0.94         9\n",
      "       23.0       1.00      1.00      1.00         3\n",
      "       24.0       1.00      1.00      1.00        10\n",
      "       25.0       1.00      1.00      1.00         6\n",
      "       26.0       1.00      1.00      1.00        10\n",
      "       27.0       1.00      1.00      1.00         5\n",
      "       28.0       1.00      1.00      1.00         5\n",
      "       29.0       1.00      1.00      1.00         7\n",
      "       30.0       1.00      1.00      1.00         1\n",
      "       31.0       1.00      1.00      1.00         8\n",
      "       32.0       1.00      1.00      1.00         2\n",
      "       33.0       1.00      1.00      1.00         5\n",
      "       34.0       1.00      1.00      1.00         5\n",
      "       35.0       1.00      1.00      1.00         4\n",
      "       36.0       1.00      1.00      1.00         8\n",
      "       37.0       1.00      1.00      1.00        14\n",
      "       38.0       1.00      1.00      1.00         1\n",
      "       39.0       1.00      1.00      1.00         3\n",
      "       40.0       1.00      1.00      1.00         2\n",
      "       41.0       1.00      1.00      1.00         6\n",
      "       42.0       1.00      1.00      1.00         3\n",
      "       43.0       1.00      1.00      1.00         4\n",
      "       44.0       1.00      1.00      1.00        14\n",
      "       45.0       1.00      1.00      1.00         8\n",
      "       46.0       1.00      1.00      1.00         4\n",
      "       47.0       1.00      1.00      1.00         4\n",
      "       48.0       1.00      1.00      1.00         2\n",
      "       49.0       1.00      1.00      1.00         6\n",
      "       50.0       1.00      1.00      1.00         4\n",
      "       51.0       1.00      1.00      1.00         3\n",
      "       52.0       1.00      0.86      0.92         7\n",
      "       53.0       1.00      1.00      1.00         3\n",
      "       54.0       1.00      1.00      1.00         9\n",
      "       55.0       1.00      1.00      1.00         5\n",
      "       56.0       1.00      1.00      1.00         5\n",
      "       57.0       1.00      1.00      1.00         4\n",
      "       58.0       1.00      1.00      1.00         5\n",
      "       59.0       1.00      1.00      1.00         6\n",
      "       60.0       1.00      1.00      1.00         8\n",
      "       61.0       1.00      1.00      1.00         6\n",
      "       62.0       1.00      1.00      1.00         3\n",
      "       63.0       1.00      1.00      1.00         5\n",
      "       64.0       1.00      1.00      1.00         6\n",
      "       65.0       1.00      1.00      1.00         2\n",
      "       66.0       1.00      1.00      1.00         7\n",
      "       67.0       1.00      1.00      1.00         4\n",
      "       68.0       1.00      1.00      1.00         2\n",
      "       69.0       1.00      1.00      1.00         9\n",
      "       70.0       1.00      1.00      1.00         4\n",
      "       71.0       1.00      1.00      1.00         3\n",
      "       72.0       1.00      1.00      1.00         5\n",
      "       73.0       1.00      1.00      1.00         2\n",
      "       74.0       1.00      1.00      1.00         8\n",
      "       75.0       1.00      1.00      1.00         3\n",
      "       76.0       0.75      1.00      0.86         3\n",
      "       77.0       1.00      0.50      0.67         2\n",
      "       78.0       1.00      1.00      1.00         6\n",
      "       79.0       1.00      1.00      1.00         2\n",
      "       80.0       1.00      1.00      1.00         3\n",
      "       81.0       0.80      0.80      0.80         5\n",
      "       82.0       0.67      1.00      0.80         2\n",
      "       83.0       0.83      1.00      0.91        10\n",
      "       84.0       0.83      1.00      0.91         5\n",
      "       85.0       1.00      1.00      1.00         4\n",
      "       86.0       1.00      1.00      1.00         6\n",
      "       87.0       1.00      1.00      1.00         4\n",
      "       88.0       1.00      1.00      1.00         2\n",
      "       89.0       1.00      1.00      1.00         6\n",
      "       90.0       1.00      1.00      1.00         4\n",
      "       91.0       1.00      1.00      1.00         2\n",
      "       92.0       1.00      1.00      1.00         5\n",
      "       93.0       0.80      1.00      0.89         4\n",
      "       94.0       1.00      1.00      1.00         4\n",
      "       95.0       1.00      1.00      1.00         2\n",
      "       96.0       1.00      1.00      1.00         3\n",
      "       97.0       1.00      1.00      1.00         2\n",
      "       98.0       1.00      1.00      1.00         5\n",
      "       99.0       1.00      1.00      1.00         3\n",
      "      100.0       1.00      1.00      1.00         4\n",
      "      101.0       1.00      1.00      1.00         5\n",
      "      102.0       1.00      1.00      1.00         6\n",
      "      103.0       1.00      1.00      1.00         3\n",
      "      104.0       1.00      1.00      1.00         1\n",
      "      105.0       1.00      1.00      1.00         3\n",
      "      106.0       1.00      1.00      1.00         4\n",
      "      107.0       1.00      1.00      1.00         6\n",
      "      108.0       1.00      1.00      1.00         2\n",
      "      109.0       1.00      1.00      1.00         4\n",
      "      110.0       1.00      1.00      1.00         6\n",
      "      111.0       1.00      1.00      1.00         3\n",
      "      112.0       1.00      1.00      1.00         5\n",
      "      113.0       1.00      1.00      1.00         9\n",
      "      114.0       1.00      1.00      1.00         5\n",
      "      115.0       1.00      1.00      1.00         4\n",
      "      116.0       1.00      1.00      1.00         9\n",
      "      117.0       1.00      1.00      1.00         5\n",
      "      118.0       1.00      1.00      1.00         6\n",
      "      119.0       1.00      1.00      1.00         5\n",
      "      120.0       1.00      1.00      1.00         5\n",
      "      121.0       1.00      1.00      1.00         1\n",
      "      123.0       1.00      1.00      1.00         3\n",
      "      124.0       1.00      1.00      1.00         7\n",
      "      125.0       1.00      1.00      1.00         5\n",
      "      126.0       0.88      1.00      0.93         7\n",
      "      127.0       1.00      0.83      0.91         6\n",
      "      128.0       1.00      1.00      1.00         5\n",
      "      129.0       1.00      1.00      1.00         3\n",
      "      130.0       1.00      1.00      1.00         6\n",
      "      131.0       1.00      1.00      1.00         6\n",
      "      132.0       1.00      0.92      0.96        13\n",
      "      133.0       1.00      1.00      1.00         6\n",
      "      134.0       1.00      1.00      1.00        13\n",
      "      135.0       0.92      1.00      0.96        12\n",
      "      136.0       1.00      1.00      1.00        11\n",
      "      137.0       1.00      1.00      1.00         9\n",
      "      138.0       1.00      1.00      1.00        13\n",
      "      140.0       1.00      1.00      1.00         4\n",
      "      141.0       1.00      1.00      1.00         7\n",
      "      142.0       1.00      1.00      1.00         8\n",
      "      143.0       1.00      1.00      1.00         2\n",
      "      144.0       1.00      0.60      0.75         5\n",
      "      145.0       0.67      1.00      0.80         2\n",
      "      146.0       1.00      1.00      1.00         2\n",
      "      147.0       1.00      1.00      1.00         6\n",
      "      148.0       0.89      1.00      0.94         8\n",
      "      149.0       1.00      0.71      0.83         7\n",
      "      150.0       1.00      1.00      1.00         4\n",
      "      151.0       1.00      1.00      1.00         1\n",
      "      152.0       1.00      1.00      1.00         6\n",
      "      153.0       1.00      0.80      0.89         5\n",
      "      154.0       0.89      1.00      0.94         8\n",
      "      155.0       1.00      1.00      1.00         3\n",
      "      156.0       1.00      1.00      1.00         5\n",
      "      157.0       1.00      1.00      1.00         4\n",
      "      158.0       1.00      1.00      1.00         8\n",
      "      159.0       1.00      1.00      1.00         4\n",
      "      160.0       1.00      1.00      1.00         1\n",
      "      161.0       1.00      1.00      1.00         9\n",
      "      162.0       1.00      1.00      1.00         7\n",
      "      163.0       1.00      1.00      1.00         4\n",
      "      164.0       1.00      1.00      1.00         3\n",
      "\n",
      "avg / total       0.99      0.99      0.99       892\n",
      "\n",
      "[[15  0  0 ...  0  0  0]\n",
      " [ 0  6  0 ...  0  0  0]\n",
      " [ 0  0 13 ...  0  0  0]\n",
      " ...\n",
      " [ 0  0  0 ...  7  0  0]\n",
      " [ 0  0  0 ...  0  4  0]\n",
      " [ 0  0  0 ...  0  0  3]]\n"
     ]
    }
   ],
   "source": [
    "# evaluate accuracy\n",
    "print(accuracy_score(Y_test, pred))\n",
    "print(classification_report(Y_test, pred))\n",
    "from sklearn.metrics import confusion_matrix\n",
    "print(confusion_matrix(Y_test, pred))"
   ]
  },
  {
   "cell_type": "code",
   "execution_count": 8,
   "metadata": {
    "colab": {},
    "colab_type": "code",
    "id": "tGMSE30pCbuI"
   },
   "outputs": [
    {
     "ename": "TypeError",
     "evalue": "Invalid dimensions for image data",
     "output_type": "error",
     "traceback": [
      "\u001b[0;31m---------------------------------------------------------------------------\u001b[0m",
      "\u001b[0;31mTypeError\u001b[0m                                 Traceback (most recent call last)",
      "\u001b[0;32m<ipython-input-8-55fe6b581a12>\u001b[0m in \u001b[0;36m<module>\u001b[0;34m()\u001b[0m\n\u001b[1;32m      1\u001b[0m \u001b[0mnp\u001b[0m\u001b[0;34m.\u001b[0m\u001b[0margmax\u001b[0m\u001b[0;34m(\u001b[0m\u001b[0mpred\u001b[0m\u001b[0;34m[\u001b[0m\u001b[0;36m0\u001b[0m\u001b[0;34m]\u001b[0m\u001b[0;34m)\u001b[0m\u001b[0;34m\u001b[0m\u001b[0m\n\u001b[0;32m----> 2\u001b[0;31m \u001b[0mplt\u001b[0m\u001b[0;34m.\u001b[0m\u001b[0mimshow\u001b[0m\u001b[0;34m(\u001b[0m\u001b[0mX_test\u001b[0m\u001b[0;34m[\u001b[0m\u001b[0;36m0\u001b[0m\u001b[0;34m]\u001b[0m\u001b[0;34m)\u001b[0m\u001b[0;34m\u001b[0m\u001b[0m\n\u001b[0m",
      "\u001b[0;32m~/anaconda3/envs/tensorflow_p36/lib/python3.6/site-packages/matplotlib/pyplot.py\u001b[0m in \u001b[0;36mimshow\u001b[0;34m(X, cmap, norm, aspect, interpolation, alpha, vmin, vmax, origin, extent, shape, filternorm, filterrad, imlim, resample, url, hold, data, **kwargs)\u001b[0m\n\u001b[1;32m   3203\u001b[0m                         \u001b[0mfilternorm\u001b[0m\u001b[0;34m=\u001b[0m\u001b[0mfilternorm\u001b[0m\u001b[0;34m,\u001b[0m \u001b[0mfilterrad\u001b[0m\u001b[0;34m=\u001b[0m\u001b[0mfilterrad\u001b[0m\u001b[0;34m,\u001b[0m\u001b[0;34m\u001b[0m\u001b[0m\n\u001b[1;32m   3204\u001b[0m                         \u001b[0mimlim\u001b[0m\u001b[0;34m=\u001b[0m\u001b[0mimlim\u001b[0m\u001b[0;34m,\u001b[0m \u001b[0mresample\u001b[0m\u001b[0;34m=\u001b[0m\u001b[0mresample\u001b[0m\u001b[0;34m,\u001b[0m \u001b[0murl\u001b[0m\u001b[0;34m=\u001b[0m\u001b[0murl\u001b[0m\u001b[0;34m,\u001b[0m \u001b[0mdata\u001b[0m\u001b[0;34m=\u001b[0m\u001b[0mdata\u001b[0m\u001b[0;34m,\u001b[0m\u001b[0;34m\u001b[0m\u001b[0m\n\u001b[0;32m-> 3205\u001b[0;31m                         **kwargs)\n\u001b[0m\u001b[1;32m   3206\u001b[0m     \u001b[0;32mfinally\u001b[0m\u001b[0;34m:\u001b[0m\u001b[0;34m\u001b[0m\u001b[0m\n\u001b[1;32m   3207\u001b[0m         \u001b[0max\u001b[0m\u001b[0;34m.\u001b[0m\u001b[0m_hold\u001b[0m \u001b[0;34m=\u001b[0m \u001b[0mwashold\u001b[0m\u001b[0;34m\u001b[0m\u001b[0m\n",
      "\u001b[0;32m~/anaconda3/envs/tensorflow_p36/lib/python3.6/site-packages/matplotlib/__init__.py\u001b[0m in \u001b[0;36minner\u001b[0;34m(ax, *args, **kwargs)\u001b[0m\n\u001b[1;32m   1853\u001b[0m                         \u001b[0;34m\"the Matplotlib list!)\"\u001b[0m \u001b[0;34m%\u001b[0m \u001b[0;34m(\u001b[0m\u001b[0mlabel_namer\u001b[0m\u001b[0;34m,\u001b[0m \u001b[0mfunc\u001b[0m\u001b[0;34m.\u001b[0m\u001b[0m__name__\u001b[0m\u001b[0;34m)\u001b[0m\u001b[0;34m,\u001b[0m\u001b[0;34m\u001b[0m\u001b[0m\n\u001b[1;32m   1854\u001b[0m                         RuntimeWarning, stacklevel=2)\n\u001b[0;32m-> 1855\u001b[0;31m             \u001b[0;32mreturn\u001b[0m \u001b[0mfunc\u001b[0m\u001b[0;34m(\u001b[0m\u001b[0max\u001b[0m\u001b[0;34m,\u001b[0m \u001b[0;34m*\u001b[0m\u001b[0margs\u001b[0m\u001b[0;34m,\u001b[0m \u001b[0;34m**\u001b[0m\u001b[0mkwargs\u001b[0m\u001b[0;34m)\u001b[0m\u001b[0;34m\u001b[0m\u001b[0m\n\u001b[0m\u001b[1;32m   1856\u001b[0m \u001b[0;34m\u001b[0m\u001b[0m\n\u001b[1;32m   1857\u001b[0m         inner.__doc__ = _add_data_doc(inner.__doc__,\n",
      "\u001b[0;32m~/anaconda3/envs/tensorflow_p36/lib/python3.6/site-packages/matplotlib/axes/_axes.py\u001b[0m in \u001b[0;36mimshow\u001b[0;34m(self, X, cmap, norm, aspect, interpolation, alpha, vmin, vmax, origin, extent, shape, filternorm, filterrad, imlim, resample, url, **kwargs)\u001b[0m\n\u001b[1;32m   5485\u001b[0m                               resample=resample, **kwargs)\n\u001b[1;32m   5486\u001b[0m \u001b[0;34m\u001b[0m\u001b[0m\n\u001b[0;32m-> 5487\u001b[0;31m         \u001b[0mim\u001b[0m\u001b[0;34m.\u001b[0m\u001b[0mset_data\u001b[0m\u001b[0;34m(\u001b[0m\u001b[0mX\u001b[0m\u001b[0;34m)\u001b[0m\u001b[0;34m\u001b[0m\u001b[0m\n\u001b[0m\u001b[1;32m   5488\u001b[0m         \u001b[0mim\u001b[0m\u001b[0;34m.\u001b[0m\u001b[0mset_alpha\u001b[0m\u001b[0;34m(\u001b[0m\u001b[0malpha\u001b[0m\u001b[0;34m)\u001b[0m\u001b[0;34m\u001b[0m\u001b[0m\n\u001b[1;32m   5489\u001b[0m         \u001b[0;32mif\u001b[0m \u001b[0mim\u001b[0m\u001b[0;34m.\u001b[0m\u001b[0mget_clip_path\u001b[0m\u001b[0;34m(\u001b[0m\u001b[0;34m)\u001b[0m \u001b[0;32mis\u001b[0m \u001b[0;32mNone\u001b[0m\u001b[0;34m:\u001b[0m\u001b[0;34m\u001b[0m\u001b[0m\n",
      "\u001b[0;32m~/anaconda3/envs/tensorflow_p36/lib/python3.6/site-packages/matplotlib/image.py\u001b[0m in \u001b[0;36mset_data\u001b[0;34m(self, A)\u001b[0m\n\u001b[1;32m    651\u001b[0m         if not (self._A.ndim == 2\n\u001b[1;32m    652\u001b[0m                 or self._A.ndim == 3 and self._A.shape[-1] in [3, 4]):\n\u001b[0;32m--> 653\u001b[0;31m             \u001b[0;32mraise\u001b[0m \u001b[0mTypeError\u001b[0m\u001b[0;34m(\u001b[0m\u001b[0;34m\"Invalid dimensions for image data\"\u001b[0m\u001b[0;34m)\u001b[0m\u001b[0;34m\u001b[0m\u001b[0m\n\u001b[0m\u001b[1;32m    654\u001b[0m \u001b[0;34m\u001b[0m\u001b[0m\n\u001b[1;32m    655\u001b[0m         \u001b[0;32mif\u001b[0m \u001b[0mself\u001b[0m\u001b[0;34m.\u001b[0m\u001b[0m_A\u001b[0m\u001b[0;34m.\u001b[0m\u001b[0mndim\u001b[0m \u001b[0;34m==\u001b[0m \u001b[0;36m3\u001b[0m\u001b[0;34m:\u001b[0m\u001b[0;34m\u001b[0m\u001b[0m\n",
      "\u001b[0;31mTypeError\u001b[0m: Invalid dimensions for image data"
     ]
    },
    {
     "data": {
      "image/png": "[encoded data removed]",
      "text/plain": [
       "<Figure size 432x288 with 1 Axes>"
      ]
     },
     "metadata": {},
     "output_type": "display_data"
    }
   ],
   "source": [
    "np.argmax(pred[0])\n",
    "plt.imshow(X_test[0])"
   ]
  },
  {
   "cell_type": "code",
   "execution_count": 12,
   "metadata": {},
   "outputs": [
    {
     "ename": "ValueError",
     "evalue": "multiclass format is not supported",
     "output_type": "error",
     "traceback": [
      "\u001b[0;31m---------------------------------------------------------------------------\u001b[0m",
      "\u001b[0;31mValueError\u001b[0m                                Traceback (most recent call last)",
      "\u001b[0;32m<ipython-input-12-d2ad89776a2c>\u001b[0m in \u001b[0;36m<module>\u001b[0;34m()\u001b[0m\n\u001b[1;32m      1\u001b[0m \u001b[0;32mfrom\u001b[0m \u001b[0msklearn\u001b[0m\u001b[0;34m.\u001b[0m\u001b[0mmetrics\u001b[0m \u001b[0;32mimport\u001b[0m \u001b[0mroc_auc_score\u001b[0m\u001b[0;34m\u001b[0m\u001b[0m\n\u001b[0;32m----> 2\u001b[0;31m \u001b[0mprint\u001b[0m\u001b[0;34m(\u001b[0m\u001b[0mroc_auc_score\u001b[0m\u001b[0;34m(\u001b[0m\u001b[0mY_test\u001b[0m\u001b[0;34m,\u001b[0m \u001b[0mpred\u001b[0m\u001b[0;34m)\u001b[0m\u001b[0;34m)\u001b[0m\u001b[0;34m\u001b[0m\u001b[0m\n\u001b[0m",
      "\u001b[0;32m~/anaconda3/envs/tensorflow_p36/lib/python3.6/site-packages/sklearn/metrics/ranking.py\u001b[0m in \u001b[0;36mroc_auc_score\u001b[0;34m(y_true, y_score, average, sample_weight)\u001b[0m\n\u001b[1;32m    275\u001b[0m     return _average_binary_score(\n\u001b[1;32m    276\u001b[0m         \u001b[0m_binary_roc_auc_score\u001b[0m\u001b[0;34m,\u001b[0m \u001b[0my_true\u001b[0m\u001b[0;34m,\u001b[0m \u001b[0my_score\u001b[0m\u001b[0;34m,\u001b[0m \u001b[0maverage\u001b[0m\u001b[0;34m,\u001b[0m\u001b[0;34m\u001b[0m\u001b[0m\n\u001b[0;32m--> 277\u001b[0;31m         sample_weight=sample_weight)\n\u001b[0m\u001b[1;32m    278\u001b[0m \u001b[0;34m\u001b[0m\u001b[0m\n\u001b[1;32m    279\u001b[0m \u001b[0;34m\u001b[0m\u001b[0m\n",
      "\u001b[0;32m~/anaconda3/envs/tensorflow_p36/lib/python3.6/site-packages/sklearn/metrics/base.py\u001b[0m in \u001b[0;36m_average_binary_score\u001b[0;34m(binary_metric, y_true, y_score, average, sample_weight)\u001b[0m\n\u001b[1;32m     70\u001b[0m     \u001b[0my_type\u001b[0m \u001b[0;34m=\u001b[0m \u001b[0mtype_of_target\u001b[0m\u001b[0;34m(\u001b[0m\u001b[0my_true\u001b[0m\u001b[0;34m)\u001b[0m\u001b[0;34m\u001b[0m\u001b[0m\n\u001b[1;32m     71\u001b[0m     \u001b[0;32mif\u001b[0m \u001b[0my_type\u001b[0m \u001b[0;32mnot\u001b[0m \u001b[0;32min\u001b[0m \u001b[0;34m(\u001b[0m\u001b[0;34m\"binary\"\u001b[0m\u001b[0;34m,\u001b[0m \u001b[0;34m\"multilabel-indicator\"\u001b[0m\u001b[0;34m)\u001b[0m\u001b[0;34m:\u001b[0m\u001b[0;34m\u001b[0m\u001b[0m\n\u001b[0;32m---> 72\u001b[0;31m         \u001b[0;32mraise\u001b[0m \u001b[0mValueError\u001b[0m\u001b[0;34m(\u001b[0m\u001b[0;34m\"{0} format is not supported\"\u001b[0m\u001b[0;34m.\u001b[0m\u001b[0mformat\u001b[0m\u001b[0;34m(\u001b[0m\u001b[0my_type\u001b[0m\u001b[0;34m)\u001b[0m\u001b[0;34m)\u001b[0m\u001b[0;34m\u001b[0m\u001b[0m\n\u001b[0m\u001b[1;32m     73\u001b[0m \u001b[0;34m\u001b[0m\u001b[0m\n\u001b[1;32m     74\u001b[0m     \u001b[0;32mif\u001b[0m \u001b[0my_type\u001b[0m \u001b[0;34m==\u001b[0m \u001b[0;34m\"binary\"\u001b[0m\u001b[0;34m:\u001b[0m\u001b[0;34m\u001b[0m\u001b[0m\n",
      "\u001b[0;31mValueError\u001b[0m: multiclass format is not supported"
     ]
    }
   ],
   "source": [
    "from sklearn.metrics import roc_auc_score\n",
    "print(roc_auc_score(Y_test, pred))"
   ]
  },
  {
   "cell_type": "code",
   "execution_count": null,
   "metadata": {},
   "outputs": [],
   "source": []
  }
 ],
 "metadata": {
  "colab": {
   "collapsed_sections": [],
   "name": "KNN - Ash.ipynb",
   "provenance": [],
   "version": "0.3.2"
  },
  "kernelspec": {
   "display_name": "Environment (conda_tensorflow_p36)",
   "language": "python",
   "name": "conda_tensorflow_p36"
  },
  "language_info": {
   "codemirror_mode": {
    "name": "ipython",
    "version": 3
   },
   "file_extension": ".py",
   "mimetype": "text/x-python",
   "name": "python",
   "nbconvert_exporter": "python",
   "pygments_lexer": "ipython3",
   "version": "3.6.5"
  }
 },
 "nbformat": 4,
 "nbformat_minor": 2
}
