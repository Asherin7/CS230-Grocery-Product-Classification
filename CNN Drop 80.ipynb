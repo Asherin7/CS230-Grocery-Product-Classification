{
 "cells": [
  {
   "cell_type": "code",
   "execution_count": 1,
   "metadata": {
    "colab": {
     "base_uri": "https://localhost:8080/",
     "height": 35
    },
    "colab_type": "code",
    "executionInfo": {
     "elapsed": 31999,
     "status": "ok",
     "timestamp": 1552162336162,
     "user": {
      "displayName": "cynthia brosque",
      "photoUrl": "",
      "userId": "08437025564610531952"
     },
     "user_tz": 480
    },
    "id": "Tbm2CFpZqA9o",
    "outputId": "99182e0a-2880-40a6-deab-d6dfea2559ac"
   },
   "outputs": [
    {
     "name": "stderr",
     "output_type": "stream",
     "text": [
      "Using TensorFlow backend.\n"
     ]
    }
   ],
   "source": [
    "# 1.0 - TensorFlow model\n",
    "import math\n",
    "import numpy as np\n",
    "import h5py\n",
    "import matplotlib.pyplot as plt\n",
    "import scipy\n",
    "from random import shuffle\n",
    "from PIL import Image\n",
    "from scipy import ndimage\n",
    "import tensorflow as tf\n",
    "from tensorflow.python.framework import ops\n",
    "from keras.models import Model\n",
    "from keras.utils import to_categorical\n",
    "import keras.backend as K\n",
    "from keras import optimizers\n",
    "from keras.layers import Input, Dense, Activation, ZeroPadding2D, BatchNormalization, Flatten, Conv2D\n",
    "from keras.layers import AveragePooling2D, MaxPooling2D, Dropout, GlobalMaxPooling2D, GlobalAveragePooling2D\n",
    "\n",
    "#from cnn_utils import *\n",
    "\n",
    "%matplotlib inline\n",
    "np.random.seed(1)"
   ]
  },
  {
   "cell_type": "code",
   "execution_count": 2,
   "metadata": {
    "colab": {},
    "colab_type": "code",
    "id": "1UfQfpkfq8Jv"
   },
   "outputs": [],
   "source": [
    "# Mount data from google drive    \n",
    "# Dataset to be imported below:\n",
    "#from google.colab import drive\n",
    "#drive.mount('/content/gdrive')"
   ]
  },
  {
   "cell_type": "code",
   "execution_count": 3,
   "metadata": {
    "cellView": "code",
    "colab": {
     "base_uri": "https://localhost:8080/",
     "height": 610
    },
    "colab_type": "code",
    "executionInfo": {
     "elapsed": 488,
     "status": "error",
     "timestamp": 1552162455501,
     "user": {
      "displayName": "cynthia brosque",
      "photoUrl": "",
      "userId": "08437025564610531952"
     },
     "user_tz": 480
    },
    "id": "lT5ZlRIl3zbT",
    "outputId": "cd7f16e8-e69c-465d-f0a7-e5d0d41ec3f7"
   },
   "outputs": [
    {
     "name": "stdout",
     "output_type": "stream",
     "text": [
      "Done building dataset\n"
     ]
    }
   ],
   "source": [
    "#Load Datasets\n",
    "#X_data = h5py.File('/content/gdrive/Team Drives/CS 230 Project/Cereal pics/X_data.h5', 'r')\n",
    "#Y_data = h5py.File('/content/gdrive/Team Drives/CS 230 Project/Cereal pics/Y_data.h5', 'r')\n",
    "  \n",
    "X_data = h5py.File('X_data.h5', 'r')\n",
    "Y_data = h5py.File('Y_data.h5', 'r')\n",
    "  \n",
    "#Specify Split ratios\n",
    "Train_percent = 0.7\n",
    "Dev_percent = 0.15\n",
    "Test_percent = 0.15\n",
    "\n",
    "#Get shapes of data:\n",
    "m = len(X_data)\n",
    "h_X,w_X,c_X = np.shape(X_data['X1'])\n",
    "\n",
    "#Get indices of train/dev/test split\n",
    "temp_list = list(range(m))\n",
    "shuffle(temp_list)\n",
    "Train_list = temp_list[0:int(Train_percent*m)]\n",
    "Dev_list = temp_list[int(Train_percent*m):int(Train_percent*m)+int(Dev_percent*m)]\n",
    "Test_list = temp_list[int(Train_percent*m)+int(Dev_percent*m):\n",
    "                      int(Train_percent*m)+int(Dev_percent*m)+int(Test_percent*m)]\n",
    "\n",
    "# Create np arrays for train/dev/test set\n",
    "X_train_orig = np.empty((len(Train_list),h_X,w_X,c_X))\n",
    "Y_train_orig = np.empty(len(Train_list))\n",
    "X_dev_orig = np.empty((len(Dev_list),h_X,w_X,c_X))\n",
    "Y_dev_orig = np.empty(len(Dev_list))\n",
    "X_test_orig = np.empty((len(Test_list),h_X,w_X,c_X))\n",
    "Y_test_orig = np.empty(len(Test_list))\n",
    "\n",
    "#Copy data from dataset onto the np arrays\n",
    "for ind,item in enumerate(Train_list):\n",
    "    X_train_orig[ind]=X_data['X'+str(item)][:]\n",
    "    Y_train_orig[ind]=Y_data['y'+str(item)][:]\n",
    "for ind,item in enumerate(Dev_list):\n",
    "    X_dev_orig[ind]=X_data['X'+str(item)][:]\n",
    "    Y_dev_orig[ind]=Y_data['y'+str(item)][:]\n",
    "for ind,item in enumerate(Test_list):\n",
    "    X_test_orig[ind]=X_data['X'+str(item)][:]\n",
    "    Y_test_orig[ind]=Y_data['y'+str(item)][:]\n",
    "\n",
    "print(\"Done building dataset\")"
   ]
  },
  {
   "cell_type": "code",
   "execution_count": 4,
   "metadata": {
    "colab": {
     "base_uri": "https://localhost:8080/",
     "height": 170
    },
    "colab_type": "code",
    "executionInfo": {
     "elapsed": 35111,
     "status": "ok",
     "timestamp": 1550733432323,
     "user": {
      "displayName": "Asherin George Anto George",
      "photoUrl": "",
      "userId": "15472923889446703505"
     },
     "user_tz": 480
    },
    "id": "z1yJWAynq8Yf",
    "outputId": "05780967-21b0-4274-a15e-97ef41340985"
   },
   "outputs": [
    {
     "name": "stdout",
     "output_type": "stream",
     "text": [
      "number of training examples = 6244\n",
      "number of dev examples = 1338\n",
      "number of test examples = 1338\n",
      "X_train shape: (6244, 256, 256, 3)\n",
      "Y_train shape: (6244, 165)\n",
      "X_dev shape: (1338, 256, 256, 3)\n",
      "Y_dev shape: (1338, 165)\n",
      "X_test shape: (1338, 256, 256, 3)\n",
      "Y_test shape: (1338, 165)\n"
     ]
    }
   ],
   "source": [
    "# To get started, let's examine the shapes of your data.\n",
    "X_train = X_train_orig/255.\n",
    "X_dev = X_dev_orig/255.\n",
    "X_test = X_test_orig/255.\n",
    "Y_train = to_categorical(Y_train_orig, num_classes=165, dtype='int32')\n",
    "Y_dev = to_categorical(Y_dev_orig, num_classes=165, dtype='int32')\n",
    "Y_test = to_categorical(Y_test_orig, num_classes=165, dtype='int32')\n",
    "X_train_orig, X_dev_orig, X_test_orig = None, None, None\n",
    "Y_train_orig, Y_dev_orig, Y_test_orig = None, None, None\n",
    "del X_data\n",
    "del Y_data\n",
    "print (\"number of training examples = \" + str(X_train.shape[0]))\n",
    "print (\"number of dev examples = \" + str(X_dev.shape[0]))\n",
    "print (\"number of test examples = \" + str(X_test.shape[0]))\n",
    "print (\"X_train shape: \" + str(X_train.shape))\n",
    "print (\"Y_train shape: \" + str(Y_train.shape))\n",
    "print (\"X_dev shape: \" + str(X_dev.shape))\n",
    "print (\"Y_dev shape: \" + str(Y_dev.shape))\n",
    "print (\"X_test shape: \" + str(X_test.shape))\n",
    "print (\"Y_test shape: \" + str(Y_test.shape))\n",
    "conv_layers = {}"
   ]
  },
  {
   "cell_type": "code",
   "execution_count": 20,
   "metadata": {
    "colab": {},
    "colab_type": "code",
    "id": "NpB11vI_MNNr"
   },
   "outputs": [],
   "source": [
    "# Define the Model and Network Architecture\n",
    "\n",
    "def BaselineModel(input_shape):\n",
    "    \"\"\"\n",
    "\n",
    "    Arguments:\n",
    "    input_shape -- shape of the images of the dataset\n",
    "\n",
    "    Returns:\n",
    "    model -- a Model() instance in Keras\n",
    "    \"\"\"\n",
    "\n",
    "    ### START CODE HERE ###\n",
    "    # Feel free to use the suggested outline in the text above to get started, and run through the whole\n",
    "    # exercise (including the later portions of this notebook) once. The come back also try out other\n",
    "    # network architectures as well. \n",
    "\n",
    "\n",
    "    # Define the input placeholder as a tensor with shape input_shape. Think of this as your input image!\n",
    "\n",
    "    X_input = Input(input_shape)\n",
    "    \n",
    "    # Zero-Padding: pads the border of X_input with zeroes\n",
    "    X = ZeroPadding2D((3, 3))(X_input)\n",
    "    \n",
    "    # CONV -> BN -> RELU Block applied to X\n",
    "    X = Conv2D(64, (5, 5), strides = (1, 1), name = 'conv0')(X)\n",
    "    X = BatchNormalization(axis = 3, name = 'bn0')(X)\n",
    "    X = Activation('relu')(X)\n",
    "    \n",
    "    # MAXPOOL\n",
    "    X = MaxPooling2D((4, 4), name='max_pool0')(X)\n",
    "    \n",
    "    #Dropout\n",
    "    X = Dropout(0.8)(X)\n",
    "    \n",
    "    #Fc\n",
    "    X = Flatten()(X)\n",
    "    X = Dense(200, activation='relu', name='fc')(X)\n",
    "    X = Dropout(0.5)(X)\n",
    "    \n",
    "    #Classifier\n",
    "    X = Dense(165, activation='softmax', name='softmax')(X)\n",
    "    \n",
    "    # Create model. This creates your Keras model instance, you'll use this instance to train/test the model.\n",
    "    model = Model(inputs = X_input, outputs = X, name='Baseline')\n",
    "\n",
    "    return model"
   ]
  },
  {
   "cell_type": "code",
   "execution_count": 21,
   "metadata": {
    "colab": {},
    "colab_type": "code",
    "id": "dtIaLOMyNlmB"
   },
   "outputs": [],
   "source": [
    "BaseModel = BaselineModel(X_train.shape[1:])"
   ]
  },
  {
   "cell_type": "code",
   "execution_count": 24,
   "metadata": {
    "colab": {},
    "colab_type": "code",
    "id": "jBFk8vZ5WuT2"
   },
   "outputs": [],
   "source": [
    "adam = optimizers.Adam(lr=0.00001, beta_1=0.9, beta_2=0.999, epsilon=1e-10, decay=0.0, amsgrad=False)\n",
    "BaseModel.compile(optimizer = adam, loss = \"categorical_crossentropy\", metrics = [\"accuracy\"])"
   ]
  },
  {
   "cell_type": "code",
   "execution_count": null,
   "metadata": {
    "colab": {
     "base_uri": "https://localhost:8080/",
     "height": 884
    },
    "colab_type": "code",
    "executionInfo": {
     "elapsed": 377979,
     "status": "ok",
     "timestamp": 1550733775225,
     "user": {
      "displayName": "Asherin George Anto George",
      "photoUrl": "",
      "userId": "15472923889446703505"
     },
     "user_tz": 480
    },
    "id": "W2_uNIIhXVI_",
    "outputId": "0a9ef4a6-e2c4-4f15-ef75-03951feaad8f"
   },
   "outputs": [
    {
     "name": "stdout",
     "output_type": "stream",
     "text": [
      "Train on 6244 samples, validate on 1338 samples\n",
      "Epoch 1/25\n",
      "1856/6244 [=======>......................] - ETA: 43s - loss: 4.9343 - acc: 0.0372"
     ]
    }
   ],
   "source": [
    "history = BaseModel.fit(X_train, Y_train, validation_data=(X_dev, Y_dev), epochs = 25, batch_size = 32)"
   ]
  },
  {
   "cell_type": "code",
   "execution_count": null,
   "metadata": {
    "colab": {
     "base_uri": "https://localhost:8080/",
     "height": 34
    },
    "colab_type": "code",
    "executionInfo": {
     "elapsed": 377979,
     "status": "ok",
     "timestamp": 1550733775232,
     "user": {
      "displayName": "Asherin George Anto George",
      "photoUrl": "",
      "userId": "15472923889446703505"
     },
     "user_tz": 480
    },
    "id": "zodHmZc-Xh_H",
    "outputId": "dcd76269-9d40-43c6-d6d7-b75a8d472abd"
   },
   "outputs": [],
   "source": [
    "print(history.history.keys())"
   ]
  },
  {
   "cell_type": "code",
   "execution_count": null,
   "metadata": {
    "colab": {
     "base_uri": "https://localhost:8080/",
     "height": 573
    },
    "colab_type": "code",
    "executionInfo": {
     "elapsed": 839,
     "status": "ok",
     "timestamp": 1550734844094,
     "user": {
      "displayName": "Asherin George Anto George",
      "photoUrl": "",
      "userId": "15472923889446703505"
     },
     "user_tz": 480
    },
    "id": "QnhS8OI75p7l",
    "outputId": "b7566b4e-ee94-45a6-a6f1-c0df5998219b"
   },
   "outputs": [],
   "source": [
    "# summarize history for accuracy\n",
    "plt.plot(history.history['acc'])\n",
    "plt.plot(history.history['val_acc'])\n",
    "plt.title('model accuracy')\n",
    "plt.ylabel('accuracy')\n",
    "plt.xlabel('epoch')\n",
    "plt.legend(['train', 'val'], loc='upper left')\n",
    "plt.show()\n",
    "# summarize history for loss\n",
    "plt.plot(history.history['loss'])\n",
    "plt.plot(history.history['val_loss'])\n",
    "plt.title('model loss')\n",
    "plt.ylabel('loss')\n",
    "plt.xlabel('epoch')\n",
    "plt.legend(['train', 'val'], loc='upper left')\n",
    "plt.show()"
   ]
  },
  {
   "cell_type": "code",
   "execution_count": null,
   "metadata": {
    "colab": {
     "base_uri": "https://localhost:8080/",
     "height": 51
    },
    "colab_type": "code",
    "executionInfo": {
     "elapsed": 665,
     "status": "ok",
     "timestamp": 1550735132085,
     "user": {
      "displayName": "Asherin George Anto George",
      "photoUrl": "",
      "userId": "15472923889446703505"
     },
     "user_tz": 480
    },
    "id": "Su6iPWNH_9z7",
    "outputId": "01a8b293-7fcc-427c-a94c-22432b80202a"
   },
   "outputs": [],
   "source": [
    "BaseModel.evaluate(X_test,Y_test)"
   ]
  },
  {
   "cell_type": "code",
   "execution_count": null,
   "metadata": {
    "colab": {
     "base_uri": "https://localhost:8080/",
     "height": 238
    },
    "colab_type": "code",
    "executionInfo": {
     "elapsed": 128,
     "status": "ok",
     "timestamp": 1550735225831,
     "user": {
      "displayName": "Asherin George Anto George",
      "photoUrl": "",
      "userId": "15472923889446703505"
     },
     "user_tz": 480
    },
    "id": "mehX1KrEBEK7",
    "outputId": "1893abab-7acc-49bc-fabd-497c635d7c57"
   },
   "outputs": [],
   "source": [
    "BaseModel.summary()"
   ]
  },
  {
   "cell_type": "code",
   "execution_count": null,
   "metadata": {
    "colab": {},
    "colab_type": "code",
    "id": "QKnwhqw5BaeH"
   },
   "outputs": [],
   "source": [
    "y_pred = BaseModel.predict(X_test)"
   ]
  },
  {
   "cell_type": "code",
   "execution_count": null,
   "metadata": {
    "colab": {
     "base_uri": "https://localhost:8080/",
     "height": 34
    },
    "colab_type": "code",
    "executionInfo": {
     "elapsed": 155,
     "status": "ok",
     "timestamp": 1550735564054,
     "user": {
      "displayName": "Asherin George Anto George",
      "photoUrl": "",
      "userId": "15472923889446703505"
     },
     "user_tz": 480
    },
    "id": "4Ju9pSUmCN7q",
    "outputId": "ebfd0846-5ffa-45d8-a1a3-128073e09118"
   },
   "outputs": [],
   "source": [
    "np.argmax(y_pred[0])"
   ]
  },
  {
   "cell_type": "code",
   "execution_count": null,
   "metadata": {
    "colab": {
     "base_uri": "https://localhost:8080/",
     "height": 286
    },
    "colab_type": "code",
    "executionInfo": {
     "elapsed": 204,
     "status": "ok",
     "timestamp": 1550735581252,
     "user": {
      "displayName": "Asherin George Anto George",
      "photoUrl": "",
      "userId": "15472923889446703505"
     },
     "user_tz": 480
    },
    "id": "tGMSE30pCbuI",
    "outputId": "32f1cce0-e9e8-405d-cee6-f8da4e8c5828"
   },
   "outputs": [],
   "source": [
    "plt.imshow(X_test[0])"
   ]
  },
  {
   "cell_type": "code",
   "execution_count": null,
   "metadata": {
    "colab": {},
    "colab_type": "code",
    "id": "BQ2rZ5PHCx8l"
   },
   "outputs": [],
   "source": []
  }
 ],
 "metadata": {
  "colab": {
   "collapsed_sections": [],
   "name": "Simple NN.ipynb",
   "provenance": [
    {
     "file_id": "1y3IuXguYfrngWVVGmJYpEvL3uG9Pljze",
     "timestamp": 1550690101708
    }
   ],
   "version": "0.3.2"
  },
  "kernelspec": {
   "display_name": "Environment (conda_tensorflow_p36)",
   "language": "python",
   "name": "conda_tensorflow_p36"
  },
  "language_info": {
   "codemirror_mode": {
    "name": "ipython",
    "version": 3
   },
   "file_extension": ".py",
   "mimetype": "text/x-python",
   "name": "python",
   "nbconvert_exporter": "python",
   "pygments_lexer": "ipython3",
   "version": "3.6.5"
  }
 },
 "nbformat": 4,
 "nbformat_minor": 2
}
